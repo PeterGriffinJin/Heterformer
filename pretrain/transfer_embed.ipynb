{
 "cells": [
  {
   "cell_type": "code",
   "execution_count": null,
   "id": "c7b0d8fa",
   "metadata": {},
   "outputs": [],
   "source": [
    "import os\n",
    "import pickle\n",
    "import torch\n",
    "import torch.nn as nn\n",
    "\n",
    "from model import BERTMF, BERTMFM"
   ]
  },
  {
   "cell_type": "code",
   "execution_count": null,
   "id": "3ca016cf",
   "metadata": {},
   "outputs": [],
   "source": [
    "target_data = 'book'"
   ]
  },
  {
   "cell_type": "code",
   "execution_count": null,
   "id": "f06a263b",
   "metadata": {},
   "outputs": [],
   "source": [
    "target = 'publisher' # choices = ['venue', 'author', 'tag', 'mention', 'format', 'language', 'publisher', 'shelves']"
   ]
  },
  {
   "cell_type": "code",
   "execution_count": null,
   "id": "596d73d1",
   "metadata": {},
   "outputs": [],
   "source": [
    "target_dir = 'ckpt_'+target"
   ]
  },
  {
   "cell_type": "code",
   "execution_count": null,
   "id": "51c70ad8",
   "metadata": {},
   "outputs": [],
   "source": [
    "embed_size = 64"
   ]
  },
  {
   "cell_type": "markdown",
   "id": "48327887",
   "metadata": {},
   "source": [
    "## BERTMF"
   ]
  },
  {
   "cell_type": "code",
   "execution_count": null,
   "id": "6de15e71",
   "metadata": {},
   "outputs": [],
   "source": [
    "#checkpoint = torch.load(os.path.join(target_data, target_dir, f'BERTMF-{embed_size}-0.0001-best.pt'), map_location='cpu')\n",
    "checkpoint = torch.load(os.path.join(target_data, f'BERTMF-{embed_size}-0.0001-best.pt'), map_location='cpu')"
   ]
  },
  {
   "cell_type": "code",
   "execution_count": null,
   "id": "35e9be05",
   "metadata": {},
   "outputs": [],
   "source": [
    "checkpoint_remain = {}\n",
    "for n in checkpoint:\n",
    "    if n[:4] == 'bert':\n",
    "        continue\n",
    "    checkpoint_remain[n] = checkpoint[n]"
   ]
  },
  {
   "cell_type": "code",
   "execution_count": null,
   "id": "8825bfb1",
   "metadata": {
    "scrolled": true
   },
   "outputs": [],
   "source": [
    "checkpoint_remain"
   ]
  },
  {
   "cell_type": "code",
   "execution_count": null,
   "id": "a96bf281",
   "metadata": {
    "scrolled": true
   },
   "outputs": [],
   "source": [
    "checkpoint_remain['author_embeddings'].shape"
   ]
  },
  {
   "cell_type": "code",
   "execution_count": null,
   "id": "ce3580f8",
   "metadata": {},
   "outputs": [],
   "source": [
    "# save to file\n",
    "# pickle.dump(checkpoint_remain, open(f'data/dblp/pretrain_embed/{target}_MF_{embed_size}.pt','wb'))\n",
    "# pickle.dump(checkpoint_remain, open(f'data/twitter/pretrain_embed/{target}_MF.pt','wb'))\n",
    "pickle.dump(checkpoint_remain, open(f'data/book/pretrain_embed/{target}_MF_{embed_size}.pt','wb'))"
   ]
  },
  {
   "cell_type": "code",
   "execution_count": null,
   "id": "67a22096",
   "metadata": {},
   "outputs": [],
   "source": []
  },
  {
   "cell_type": "code",
   "execution_count": null,
   "id": "e14b88f5",
   "metadata": {
    "scrolled": true
   },
   "outputs": [],
   "source": [
    "# read author pretrained embedding\n",
    "nn.Parameter(checkpoint_remain['author_embeddings'])"
   ]
  },
  {
   "cell_type": "code",
   "execution_count": null,
   "id": "37df4cfe",
   "metadata": {},
   "outputs": [],
   "source": [
    "# read projection matrix\n",
    "linear = nn.Linear(64, 768)\n",
    "print(linear.weight)\n",
    "print(linear.bias)\n",
    "with torch.no_grad():\n",
    "    linear.weight.copy_(checkpoint_remain['linear.weight'])\n",
    "    linear.bias.copy_(checkpoint_remain['linear.bias'])\n",
    "print(linear.weight)\n",
    "print(linear.bias)"
   ]
  },
  {
   "cell_type": "code",
   "execution_count": null,
   "id": "be501c6b",
   "metadata": {},
   "outputs": [],
   "source": []
  },
  {
   "cell_type": "code",
   "execution_count": null,
   "id": "00c0e449",
   "metadata": {},
   "outputs": [],
   "source": []
  }
 ],
 "metadata": {
  "kernelspec": {
   "display_name": "Python 3 (ipykernel)",
   "language": "python",
   "name": "python3"
  },
  "language_info": {
   "codemirror_mode": {
    "name": "ipython",
    "version": 3
   },
   "file_extension": ".py",
   "mimetype": "text/x-python",
   "name": "python",
   "nbconvert_exporter": "python",
   "pygments_lexer": "ipython3",
   "version": "3.8.0"
  }
 },
 "nbformat": 4,
 "nbformat_minor": 5
}
