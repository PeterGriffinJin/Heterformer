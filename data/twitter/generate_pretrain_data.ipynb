{
 "cells": [
  {
   "cell_type": "code",
   "execution_count": null,
   "id": "970e3d60",
   "metadata": {},
   "outputs": [],
   "source": [
    "import os\n",
    "from tqdm import tqdm\n",
    "import pickle\n",
    "import random\n",
    "from collections import defaultdict"
   ]
  },
  {
   "cell_type": "markdown",
   "id": "ad08f240",
   "metadata": {},
   "source": [
    "## generate (text, nontext node) data from xxx_heter/train_pp.tsv"
   ]
  },
  {
   "cell_type": "code",
   "execution_count": null,
   "id": "24d625a2",
   "metadata": {},
   "outputs": [],
   "source": [
    "mention_neighbour = pickle.load(open('Tweet_text/mention_neighbour.pkl', 'rb'))"
   ]
  },
  {
   "cell_type": "code",
   "execution_count": null,
   "id": "22d45769",
   "metadata": {},
   "outputs": [],
   "source": [
    "tag_neighbour = pickle.load(open('Tweet_text/tag_neighbour.pkl', 'rb'))"
   ]
  },
  {
   "cell_type": "code",
   "execution_count": null,
   "id": "683aac32",
   "metadata": {},
   "outputs": [],
   "source": [
    "author_neighbour = pickle.load(open('Tweet_text/author_neighbour.pkl', 'rb'))"
   ]
  },
  {
   "cell_type": "code",
   "execution_count": null,
   "id": "b31690a8",
   "metadata": {},
   "outputs": [],
   "source": [
    "mention_id2idx_dict = pickle.load(open('Tweet_text/mention_id2idx_dict.pkl', 'rb'))"
   ]
  },
  {
   "cell_type": "code",
   "execution_count": null,
   "id": "a30ee714",
   "metadata": {},
   "outputs": [],
   "source": [
    "tag_id2idx_dict = pickle.load(open('Tweet_text/tag_id2idx_dict.pkl', 'rb'))"
   ]
  },
  {
   "cell_type": "code",
   "execution_count": null,
   "id": "ea212d0c",
   "metadata": {},
   "outputs": [],
   "source": [
    "author_id2idx_dict = pickle.load(open('Tweet_text/author_id2idx_dict.pkl', 'rb'))"
   ]
  },
  {
   "cell_type": "code",
   "execution_count": null,
   "id": "b6d1542d",
   "metadata": {},
   "outputs": [],
   "source": [
    "author_id2idx_dict"
   ]
  },
  {
   "cell_type": "code",
   "execution_count": null,
   "id": "e38b4cbb",
   "metadata": {},
   "outputs": [],
   "source": [
    "mention_id2idx_dict"
   ]
  },
  {
   "cell_type": "code",
   "execution_count": null,
   "id": "24e67f5f",
   "metadata": {},
   "outputs": [],
   "source": [
    "mention_neighbour"
   ]
  },
  {
   "cell_type": "code",
   "execution_count": null,
   "id": "03ee2cc5",
   "metadata": {},
   "outputs": [],
   "source": [
    "author_neighbour"
   ]
  },
  {
   "cell_type": "code",
   "execution_count": null,
   "id": "ccfa5f5a",
   "metadata": {},
   "outputs": [],
   "source": [
    "len(mention_id2idx_dict)"
   ]
  },
  {
   "cell_type": "code",
   "execution_count": null,
   "id": "35a95678",
   "metadata": {},
   "outputs": [],
   "source": [
    "len(tag_id2idx_dict)"
   ]
  },
  {
   "cell_type": "code",
   "execution_count": null,
   "id": "10a6e681",
   "metadata": {},
   "outputs": [],
   "source": [
    "len(author_id2idx_dict)"
   ]
  },
  {
   "cell_type": "code",
   "execution_count": null,
   "id": "32e3c47b",
   "metadata": {},
   "outputs": [],
   "source": []
  },
  {
   "cell_type": "markdown",
   "id": "d943b471",
   "metadata": {},
   "source": [
    "## generate file for mention embedding pretrain"
   ]
  },
  {
   "cell_type": "code",
   "execution_count": null,
   "id": "78e79320",
   "metadata": {
    "scrolled": true
   },
   "outputs": [],
   "source": [
    "mention_tweets = {} # key: mention_idx, value: tweet list\n",
    "for k in tqdm(mention_id2idx_dict):\n",
    "    tmp_idx = mention_id2idx_dict[k]\n",
    "    mention_tweets[tmp_idx] = mention_neighbour[k]"
   ]
  },
  {
   "cell_type": "code",
   "execution_count": null,
   "id": "6f1a2075",
   "metadata": {},
   "outputs": [],
   "source": [
    "mention_tweets"
   ]
  },
  {
   "cell_type": "code",
   "execution_count": null,
   "id": "3280d565",
   "metadata": {},
   "outputs": [],
   "source": [
    "len(mention_tweets)"
   ]
  },
  {
   "cell_type": "code",
   "execution_count": null,
   "id": "c2e282d2",
   "metadata": {},
   "outputs": [],
   "source": [
    "# write into file\n",
    "with open('pretrain/data/twitter/train_m.tsv','w') as fout:\n",
    "    for i in tqdm(mention_tweets):\n",
    "        for text in mention_tweets[i]:\n",
    "            if len(text.split('\\t')) == 1 and len(text.split('\\n')) == 1 and len(text.split('\\rm')) == 1 and len(text.split('\\r')) == 1 and len(text.split('$')) == 1:\n",
    "                fout.write(text+'\\t'+str(i)+'\\n')"
   ]
  },
  {
   "cell_type": "code",
   "execution_count": null,
   "id": "13cb092d",
   "metadata": {},
   "outputs": [],
   "source": []
  },
  {
   "cell_type": "code",
   "execution_count": null,
   "id": "e20cc047",
   "metadata": {},
   "outputs": [],
   "source": [
    "# generate val set\n",
    "with open('pretrain/data/twitter/train_m.tsv') as f:\n",
    "    data = f.readlines()\n",
    "    random.shuffle(data)\n",
    "    with open('pretrain/data/twitter/val_m.tsv','w') as fout:\n",
    "        for d in tqdm(data[:1000]):\n",
    "            fout.write(d)"
   ]
  },
  {
   "cell_type": "code",
   "execution_count": null,
   "id": "08979b77",
   "metadata": {},
   "outputs": [],
   "source": []
  },
  {
   "cell_type": "markdown",
   "id": "93eabba5",
   "metadata": {},
   "source": [
    "## generate file for tag embedding pretrain"
   ]
  },
  {
   "cell_type": "code",
   "execution_count": null,
   "id": "2763de0c",
   "metadata": {},
   "outputs": [],
   "source": [
    "tag_tweets = {} # key: tag_idx, value: tweet list\n",
    "for k in tqdm(tag_id2idx_dict):\n",
    "    tmp_idx = tag_id2idx_dict[k]\n",
    "    tag_tweets[tmp_idx] = tag_neighbour[k]"
   ]
  },
  {
   "cell_type": "code",
   "execution_count": null,
   "id": "c1aa5967",
   "metadata": {},
   "outputs": [],
   "source": [
    "tag_tweets"
   ]
  },
  {
   "cell_type": "code",
   "execution_count": null,
   "id": "dbdcf2df",
   "metadata": {},
   "outputs": [],
   "source": [
    "len(tag_tweets)"
   ]
  },
  {
   "cell_type": "code",
   "execution_count": null,
   "id": "553f4491",
   "metadata": {},
   "outputs": [],
   "source": [
    "# write into file\n",
    "with open('pretrain/data/twitter/train_t.tsv','w') as fout:\n",
    "    for i in tqdm(tag_tweets):\n",
    "        for text in tag_tweets[i]:\n",
    "            if len(text.split('\\t')) == 1 and len(text.split('\\n')) == 1 and len(text.split('\\rm')) == 1 and len(text.split('\\r')) == 1 and len(text.split('$')) == 1:\n",
    "                fout.write(text+'\\t'+str(i)+'\\n')"
   ]
  },
  {
   "cell_type": "code",
   "execution_count": null,
   "id": "75dc1b78",
   "metadata": {},
   "outputs": [],
   "source": [
    "# generate val set\n",
    "with open('pretrain/data/twitter/train_t.tsv') as f:\n",
    "    data = f.readlines()\n",
    "    random.shuffle(data)\n",
    "    with open('pretrain/data/twitter/val_t.tsv','w') as fout:\n",
    "        for d in tqdm(data[:1000]):\n",
    "            fout.write(d)"
   ]
  },
  {
   "cell_type": "code",
   "execution_count": null,
   "id": "2b3b77de",
   "metadata": {},
   "outputs": [],
   "source": []
  },
  {
   "cell_type": "code",
   "execution_count": null,
   "id": "50da59ea",
   "metadata": {},
   "outputs": [],
   "source": []
  },
  {
   "cell_type": "markdown",
   "id": "c4f8251f",
   "metadata": {},
   "source": [
    "## generate file for tag embedding pretrain"
   ]
  },
  {
   "cell_type": "code",
   "execution_count": null,
   "id": "60de781f",
   "metadata": {},
   "outputs": [],
   "source": [
    "author_tweets = {} # key: tag_idx, value: tweet list\n",
    "for k in tqdm(author_id2idx_dict):\n",
    "    tmp_idx = author_id2idx_dict[k]\n",
    "    author_tweets[tmp_idx] = author_neighbour[k]"
   ]
  },
  {
   "cell_type": "code",
   "execution_count": null,
   "id": "8bbf5c4f",
   "metadata": {},
   "outputs": [],
   "source": [
    "author_tweets"
   ]
  },
  {
   "cell_type": "code",
   "execution_count": null,
   "id": "a1dade8e",
   "metadata": {},
   "outputs": [],
   "source": [
    "len(author_tweets)"
   ]
  },
  {
   "cell_type": "code",
   "execution_count": null,
   "id": "cc4913af",
   "metadata": {},
   "outputs": [],
   "source": [
    "# write into file\n",
    "with open('pretrain/data/twitter/train_a.tsv','w') as fout:\n",
    "    for i in tqdm(author_tweets):\n",
    "        for text in author_tweets[i]:\n",
    "            if len(text.split('\\t')) == 1 and len(text.split('\\n')) == 1 and len(text.split('\\rm')) == 1 and len(text.split('\\r')) == 1 and len(text.split('$')) == 1:\n",
    "                fout.write(text+'\\t'+str(i)+'\\n')"
   ]
  },
  {
   "cell_type": "code",
   "execution_count": null,
   "id": "53de2a0c",
   "metadata": {},
   "outputs": [],
   "source": [
    "# generate val set\n",
    "with open('pretrain/data/twitter/train_a.tsv') as f:\n",
    "    data = f.readlines()\n",
    "    random.shuffle(data)\n",
    "    with open('pretrain/data/twitter/val_a.tsv','w') as fout:\n",
    "        for d in tqdm(data[:1000]):\n",
    "            fout.write(d)"
   ]
  },
  {
   "cell_type": "code",
   "execution_count": null,
   "id": "a81953fe",
   "metadata": {},
   "outputs": [],
   "source": []
  }
 ],
 "metadata": {
  "kernelspec": {
   "display_name": "Python 3 (ipykernel)",
   "language": "python",
   "name": "python3"
  },
  "language_info": {
   "codemirror_mode": {
    "name": "ipython",
    "version": 3
   },
   "file_extension": ".py",
   "mimetype": "text/x-python",
   "name": "python",
   "nbconvert_exporter": "python",
   "pygments_lexer": "ipython3",
   "version": "3.8.0"
  }
 },
 "nbformat": 4,
 "nbformat_minor": 5
}
