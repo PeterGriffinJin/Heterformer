{
 "cells": [
  {
   "cell_type": "code",
   "execution_count": null,
   "id": "970e3d60",
   "metadata": {},
   "outputs": [],
   "source": [
    "import os\n",
    "from tqdm import tqdm\n",
    "import pickle\n",
    "import random\n",
    "from collections import defaultdict"
   ]
  },
  {
   "cell_type": "markdown",
   "id": "ad08f240",
   "metadata": {},
   "source": [
    "## generate (text, nontext node) data from xxx_heter/train_pp.tsv"
   ]
  },
  {
   "cell_type": "code",
   "execution_count": null,
   "id": "24d625a2",
   "metadata": {},
   "outputs": [],
   "source": [
    "author_neighbour = pickle.load(open('DBLP_neighbour/author_neighbour.pkl', 'rb'))"
   ]
  },
  {
   "cell_type": "code",
   "execution_count": null,
   "id": "22d45769",
   "metadata": {},
   "outputs": [],
   "source": [
    "venue_neighbour = pickle.load(open('DBLP_neighbour/venue_neighbour.pkl', 'rb'))"
   ]
  },
  {
   "cell_type": "code",
   "execution_count": null,
   "id": "b31690a8",
   "metadata": {},
   "outputs": [],
   "source": [
    "train_authors_id2idx = pickle.load(open('DBLP_neighbour/random_train_authors_id2idx.pkl', 'rb'))"
   ]
  },
  {
   "cell_type": "code",
   "execution_count": null,
   "id": "a30ee714",
   "metadata": {},
   "outputs": [],
   "source": [
    "train_venue_id2idx = pickle.load(open('DBLP_neighbour/random_train_venue_id2idx.pkl', 'rb'))"
   ]
  },
  {
   "cell_type": "code",
   "execution_count": null,
   "id": "b6d1542d",
   "metadata": {
    "scrolled": true
   },
   "outputs": [],
   "source": [
    "train_authors_id2idx"
   ]
  },
  {
   "cell_type": "code",
   "execution_count": null,
   "id": "e38b4cbb",
   "metadata": {},
   "outputs": [],
   "source": [
    "train_venue_id2idx"
   ]
  },
  {
   "cell_type": "code",
   "execution_count": null,
   "id": "24e67f5f",
   "metadata": {},
   "outputs": [],
   "source": [
    "author_neighbour"
   ]
  },
  {
   "cell_type": "code",
   "execution_count": null,
   "id": "ccfa5f5a",
   "metadata": {},
   "outputs": [],
   "source": [
    "len(train_authors_id2idx)"
   ]
  },
  {
   "cell_type": "code",
   "execution_count": null,
   "id": "35a95678",
   "metadata": {},
   "outputs": [],
   "source": [
    "len(train_venue_id2idx)"
   ]
  },
  {
   "cell_type": "code",
   "execution_count": null,
   "id": "10a6e681",
   "metadata": {},
   "outputs": [],
   "source": []
  },
  {
   "cell_type": "markdown",
   "id": "d943b471",
   "metadata": {},
   "source": [
    "## generate file for author embedding pretrain"
   ]
  },
  {
   "cell_type": "code",
   "execution_count": null,
   "id": "78e79320",
   "metadata": {
    "scrolled": true
   },
   "outputs": [],
   "source": [
    "authors_papers = {} # key: author_idx, value: paper list\n",
    "for k in tqdm(train_authors_id2idx):\n",
    "    tmp_idx = train_authors_id2idx[k]\n",
    "    authors_papers[tmp_idx] = author_neighbour[k]"
   ]
  },
  {
   "cell_type": "code",
   "execution_count": null,
   "id": "6f1a2075",
   "metadata": {},
   "outputs": [],
   "source": [
    "authors_papers"
   ]
  },
  {
   "cell_type": "code",
   "execution_count": null,
   "id": "3280d565",
   "metadata": {},
   "outputs": [],
   "source": [
    "len(authors_papers)"
   ]
  },
  {
   "cell_type": "code",
   "execution_count": null,
   "id": "c2e282d2",
   "metadata": {},
   "outputs": [],
   "source": [
    "# write into file\n",
    "with open('pretrain/data/dblp/train_a.tsv','w') as fout:\n",
    "    for i in tqdm(authors_papers):\n",
    "        for text in authors_papers[i]:\n",
    "            if len(text.split('\\t')) == 1 and len(text.split('\\n')) == 1 and len(text.split('\\rm')) == 1 and len(text.split('\\r')) == 1 and len(text.split('$')) == 1:\n",
    "                fout.write(text+'\\t'+str(i)+'\\n')"
   ]
  },
  {
   "cell_type": "code",
   "execution_count": null,
   "id": "13cb092d",
   "metadata": {},
   "outputs": [],
   "source": []
  },
  {
   "cell_type": "code",
   "execution_count": null,
   "id": "e20cc047",
   "metadata": {},
   "outputs": [],
   "source": [
    "# generate val set\n",
    "with open('pretrain/data/dblp/train_a.tsv') as f:\n",
    "    data = f.readlines()\n",
    "    random.shuffle(data)\n",
    "    with open('pretrain/data/dblp/val_a.tsv','w') as fout:\n",
    "        for d in tqdm(data[:4000]):\n",
    "            fout.write(d)"
   ]
  },
  {
   "cell_type": "code",
   "execution_count": null,
   "id": "08979b77",
   "metadata": {},
   "outputs": [],
   "source": []
  },
  {
   "cell_type": "markdown",
   "id": "93eabba5",
   "metadata": {},
   "source": [
    "## generate file for venue embedding pretrain"
   ]
  },
  {
   "cell_type": "code",
   "execution_count": null,
   "id": "2763de0c",
   "metadata": {},
   "outputs": [],
   "source": [
    "venue_papers = {} # key: venue_idx, value: paper list\n",
    "for k in tqdm(train_venue_id2idx):\n",
    "    tmp_idx = train_venue_id2idx[k]\n",
    "    venue_papers[tmp_idx] = venue_neighbour[k]"
   ]
  },
  {
   "cell_type": "code",
   "execution_count": null,
   "id": "c1aa5967",
   "metadata": {},
   "outputs": [],
   "source": [
    "venue_papers"
   ]
  },
  {
   "cell_type": "code",
   "execution_count": null,
   "id": "dbdcf2df",
   "metadata": {},
   "outputs": [],
   "source": [
    "len(venue_papers)"
   ]
  },
  {
   "cell_type": "code",
   "execution_count": null,
   "id": "553f4491",
   "metadata": {},
   "outputs": [],
   "source": [
    "# write into file\n",
    "with open('pretrain/data/dblp/train_v.tsv','w') as fout:\n",
    "    for i in tqdm(venue_papers):\n",
    "        for text in venue_papers[i]:\n",
    "            if len(text.split('\\t')) == 1 and len(text.split('\\n')) == 1 and len(text.split('\\rm')) == 1 and len(text.split('\\r')) == 1 and len(text.split('$')) == 1:\n",
    "                fout.write(text+'\\t'+str(i)+'\\n')"
   ]
  },
  {
   "cell_type": "code",
   "execution_count": null,
   "id": "75dc1b78",
   "metadata": {},
   "outputs": [],
   "source": [
    "# generate val set\n",
    "with open('pretrain/data/dblp/train_v.tsv') as f:\n",
    "    data = f.readlines()\n",
    "    random.shuffle(data)\n",
    "    with open('pretrain/data/dblp/val_v.tsv','w') as fout:\n",
    "        for d in tqdm(data[:4000]):\n",
    "            fout.write(d)"
   ]
  },
  {
   "cell_type": "code",
   "execution_count": null,
   "id": "2b3b77de",
   "metadata": {},
   "outputs": [],
   "source": []
  },
  {
   "cell_type": "code",
   "execution_count": null,
   "id": "a81953fe",
   "metadata": {},
   "outputs": [],
   "source": []
  }
 ],
 "metadata": {
  "kernelspec": {
   "display_name": "Python 3 (ipykernel)",
   "language": "python",
   "name": "python3"
  },
  "language_info": {
   "codemirror_mode": {
    "name": "ipython",
    "version": 3
   },
   "file_extension": ".py",
   "mimetype": "text/x-python",
   "name": "python",
   "nbconvert_exporter": "python",
   "pygments_lexer": "ipython3",
   "version": "3.8.0"
  }
 },
 "nbformat": 4,
 "nbformat_minor": 5
}
