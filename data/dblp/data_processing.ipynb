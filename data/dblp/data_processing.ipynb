{
 "cells": [
  {
   "cell_type": "code",
   "execution_count": null,
   "id": "15aa15b7",
   "metadata": {},
   "outputs": [],
   "source": [
    "import os\n",
    "import json\n",
    "import pickle\n",
    "import random\n",
    "from copy import deepcopy\n",
    "from tqdm import tqdm"
   ]
  },
  {
   "cell_type": "markdown",
   "id": "e92d3c59",
   "metadata": {},
   "source": [
    "## Read DBLP"
   ]
  },
  {
   "cell_type": "code",
   "execution_count": null,
   "id": "a84b7681",
   "metadata": {},
   "outputs": [],
   "source": [
    "with open('data/dblp/dblp.v12.json') as f:\n",
    "    data = json.load(f)"
   ]
  },
  {
   "cell_type": "code",
   "execution_count": null,
   "id": "1e2e0805",
   "metadata": {},
   "outputs": [],
   "source": [
    "## simplify the data\n",
    "simp_data = {}\n",
    "\n",
    "no_ref = 0\n",
    "no_fos = 0\n",
    "no_authors = 0\n",
    "no_ven = 0\n",
    "\n",
    "for p in tqdm(data):\n",
    "    assert p['id'] not in simp_data\n",
    "    tmp_dict = {}\n",
    "    tmp_dict['title'] = p['title']\n",
    "    tmp_dict['year'] = p['year']\n",
    "    \n",
    "    if 'authors' in p:\n",
    "        tmp_dict['authors'] = p['authors']  \n",
    "    else:\n",
    "        no_authors = no_authors + 1\n",
    "    \n",
    "    if 'references' in p:\n",
    "        tmp_dict['references'] = p['references']  \n",
    "    else:\n",
    "        no_ref = no_ref + 1\n",
    "        \n",
    "    if 'fos' in p:\n",
    "        tmp_dict['fos'] = p['fos']  \n",
    "    else:\n",
    "        no_fos = no_fos + 1\n",
    "        \n",
    "    if 'venue' in p:\n",
    "        tmp_dict['venue'] = p['venue']  \n",
    "    else:\n",
    "        no_ven = no_ven + 1\n",
    "    \n",
    "    simp_data[p['id']] = tmp_dict\n",
    "    \n",
    "json.dump(simp_data, open('data/dblp/DBLP.json', \"w\"))\n",
    "'''\n",
    "DBLP.json: a dictionary\n",
    "'''"
   ]
  },
  {
   "cell_type": "code",
   "execution_count": null,
   "id": "fcc71a70",
   "metadata": {},
   "outputs": [],
   "source": [
    "json.dump(simp_data, open('data/dblp/DBLP.json', \"w\"))"
   ]
  },
  {
   "cell_type": "code",
   "execution_count": null,
   "id": "c79bdf12",
   "metadata": {},
   "outputs": [],
   "source": [
    "print(f'no_ref:{no_ref}, no_fos:{no_fos}, no_authors:{no_authors}, no_ven:{no_ven}, all:{len(data)}')"
   ]
  },
  {
   "cell_type": "code",
   "execution_count": null,
   "id": "e6c83703",
   "metadata": {},
   "outputs": [],
   "source": [
    "## transfer to same format with origin\n",
    "simp_data_origin_format = []\n",
    "\n",
    "for k in tqdm(data):\n",
    "    v = data[k]\n",
    "    v['id'] = k\n",
    "    simp_data_origin_format.append(v)\n",
    "    \n",
    "json.dump(simp_data_origin_format, open('DBLP_f.json', \"w\"))"
   ]
  },
  {
   "cell_type": "code",
   "execution_count": null,
   "id": "3c904ae7",
   "metadata": {},
   "outputs": [],
   "source": [
    "## read simplfied data\n",
    "with open('DBLP_f.json') as f:\n",
    "    data = json.load(f)\n",
    "'''\n",
    "DBLP_f.json: a list\n",
    "'''"
   ]
  },
  {
   "cell_type": "markdown",
   "id": "51cffa71",
   "metadata": {},
   "source": [
    "## Data Split based on Year"
   ]
  },
  {
   "cell_type": "code",
   "execution_count": null,
   "id": "2878add3",
   "metadata": {},
   "outputs": [],
   "source": [
    "# write\n",
    "data_list = []\n",
    "paper_id_list = set()\n",
    "\n",
    "# filter based on year\n",
    "for d in tqdm(data):\n",
    "    if d['year'] > 1990:\n",
    "        data_list.append(deepcopy(d))\n",
    "        paper_id_list.add(d['id'])\n",
    "\n",
    "# filter the ref\n",
    "for d in tqdm(data_list):\n",
    "    if 'references' in d:\n",
    "        d['references'] = [ref for ref in d['references'] if str(ref) in paper_id_list]\n",
    "\n",
    "#json.dump(data_list, open('DBLP_f_1990_now.json', \"w\"))"
   ]
  },
  {
   "cell_type": "code",
   "execution_count": null,
   "id": "2e46d137",
   "metadata": {},
   "outputs": [],
   "source": [
    "json.dump(data_list, open('DBLP_f_1990_now.json', \"w\"))"
   ]
  },
  {
   "cell_type": "code",
   "execution_count": null,
   "id": "d2f86335",
   "metadata": {},
   "outputs": [],
   "source": [
    "len(data_list)"
   ]
  },
  {
   "cell_type": "code",
   "execution_count": null,
   "id": "80939a4f",
   "metadata": {},
   "outputs": [],
   "source": [
    "# read\n",
    "with open('DBLP_f_1990_now.json') as f:\n",
    "    data = json.load(f)"
   ]
  },
  {
   "cell_type": "markdown",
   "id": "4703a2c9",
   "metadata": {},
   "source": [
    "## Statistics"
   ]
  },
  {
   "cell_type": "code",
   "execution_count": null,
   "id": "75d8f36a",
   "metadata": {},
   "outputs": [],
   "source": [
    "author_fos = {} # key: (author_name, author_id), value: fos name set\n",
    "venue = set() # element: venue name\n",
    "author = set() # element: (author_name, author_id)\n",
    "fos = set() # element: fos name\n",
    "\n",
    "for p in tqdm(data):\n",
    "    if 'venue' in p:\n",
    "        venue.add(p['venue']['raw'])\n",
    "\n",
    "    if 'authors' in p:\n",
    "        for a in p['authors']:\n",
    "            author.add((a['name'], a['id']))\n",
    "            if 'fos' in p:\n",
    "                if (a['name'], a['id']) not in author_fos:\n",
    "                    author_fos[(a['name'], a['id'])] = set()\n",
    "                for f in p['fos']:\n",
    "                    author_fos[(a['name'], a['id'])].add(f['name'])\n",
    "    \n",
    "    if 'fos' in p:\n",
    "        for f in p['fos']:\n",
    "            fos.add(f['name'])    "
   ]
  },
  {
   "cell_type": "code",
   "execution_count": null,
   "id": "687778c9",
   "metadata": {},
   "outputs": [],
   "source": [
    "print(f'author.num:{len(author)}, venue.num:{len(venue)}, fos.num:{len(fos)}')"
   ]
  },
  {
   "cell_type": "code",
   "execution_count": null,
   "id": "f84e7401",
   "metadata": {
    "scrolled": true
   },
   "outputs": [],
   "source": [
    "author_fos"
   ]
  },
  {
   "cell_type": "code",
   "execution_count": null,
   "id": "4a0ee14c",
   "metadata": {},
   "outputs": [],
   "source": []
  },
  {
   "cell_type": "markdown",
   "id": "43460f50",
   "metadata": {},
   "source": [
    "## Construct paper, author, venue dict"
   ]
  },
  {
   "cell_type": "code",
   "execution_count": null,
   "id": "69f3eb87",
   "metadata": {},
   "outputs": [],
   "source": [
    "'''\n",
    "paper_dict: paper id -> title\n",
    "author_dict: author id (author num_id \\t author name) -> fos text\n",
    "'''\n",
    "\n",
    "paper_dict = {}\n",
    "author_dict = {}\n",
    "\n",
    "for p in tqdm(data):\n",
    "    assert p['id'] not in paper_dict\n",
    "    paper_dict[p['id']] = p['title']\n",
    "\n",
    "for a in tqdm(author_fos):\n",
    "    tmp_fos = list(author_fos[a])\n",
    "    random.shuffle(tmp_fos)\n",
    "    author_dict[str(a[1])+'\\t'+a[0]] = ' '.join(tmp_fos)"
   ]
  },
  {
   "cell_type": "code",
   "execution_count": null,
   "id": "e030481c",
   "metadata": {
    "scrolled": true
   },
   "outputs": [],
   "source": [
    "### reindex\n",
    "#'''\n",
    "#paper_id2idx: paper id -> paper idx\n",
    "#author_id2idx: author id -> author idx\n",
    "#venue_dict: venue idx -> venue text\n",
    "#'''\n",
    "\n",
    "#paper_id2idx = {}\n",
    "#author_id2idx = {}\n",
    "#venue_dict = {}\n",
    "\n",
    "#for p in tqdm(paper_dict):\n",
    "#    assert p not in paper_id2idx\n",
    "#    paper_id2idx[p] = len(paper_id2idx)\n",
    "\n",
    "#for a in tqdm(author_dict):\n",
    "#    assert a not in author_id2idx\n",
    "#    author_id2idx[a] = len(author_id2idx)\n",
    "    \n",
    "#for v in tqdm(venue):\n",
    "#    if v == '': continue\n",
    "#    venue_dict[len(venue_dict)] = v"
   ]
  },
  {
   "cell_type": "code",
   "execution_count": null,
   "id": "646b60a6",
   "metadata": {},
   "outputs": [],
   "source": [
    "paper_dict"
   ]
  },
  {
   "cell_type": "code",
   "execution_count": null,
   "id": "51c40c2d",
   "metadata": {},
   "outputs": [],
   "source": [
    "author_dict"
   ]
  },
  {
   "cell_type": "markdown",
   "id": "cc16bcf2",
   "metadata": {},
   "source": [
    "## Center Node"
   ]
  },
  {
   "cell_type": "code",
   "execution_count": null,
   "id": "9a7c6393",
   "metadata": {
    "scrolled": false
   },
   "outputs": [],
   "source": [
    "## paper center\n",
    "paper_neighbour = {} # key: paper id, value: dict['paper':(list), 'author':(list), 'venue':str]\n",
    "author_miss = 0\n",
    "\n",
    "for p in tqdm(data):\n",
    "    assert p['id'] not in paper_neighbour\n",
    "    tmp_neighbour = {}\n",
    "    \n",
    "    # add neighbour paper\n",
    "    if 'references' in p:\n",
    "        tmp_neighbour['paper'] = []\n",
    "        for ref in p[\"references\"]:\n",
    "            tmp_neighbour['paper'].append(paper_dict[str(ref)])\n",
    "    \n",
    "    # add neighbour author\n",
    "    if 'authors' in p:\n",
    "        tmp_neighbour['author'] = []\n",
    "        for a in p['authors']:\n",
    "            if str(a['id'])+'\\t'+a['name'] in author_dict:\n",
    "                tmp_neighbour['author'].append(str(a['id'])+'\\t'+a['name'])\n",
    "            else:\n",
    "                author_miss += 1\n",
    "\n",
    "    # add neighbour venue\n",
    "    if 'venue' in p:\n",
    "        if p['venue']['raw'] != '':\n",
    "            tmp_neighbour['venue'] = p['venue']['raw']\n",
    "    \n",
    "    paper_neighbour[p['id']] = tmp_neighbour\n",
    "    \n",
    "print(f'author_miss:{author_miss}')"
   ]
  },
  {
   "cell_type": "code",
   "execution_count": null,
   "id": "f38d81bb",
   "metadata": {},
   "outputs": [],
   "source": [
    "paper_neighbour"
   ]
  },
  {
   "cell_type": "code",
   "execution_count": null,
   "id": "3605c98b",
   "metadata": {},
   "outputs": [],
   "source": [
    "## author center\n",
    "author_neighbour = {} # key: author id (author num_id \\t author name), value: paper list\n",
    "\n",
    "for p in tqdm(data):\n",
    "    if 'authors' in p:\n",
    "        for a in p['authors']:\n",
    "            # add paper for each author\n",
    "            if (str(a['id'])+'\\t'+a['name']) not in author_neighbour:\n",
    "                author_neighbour[(str(a['id'])+'\\t'+a['name'])] = []\n",
    "            author_neighbour[(str(a['id'])+'\\t'+a['name'])].append(p['title'])"
   ]
  },
  {
   "cell_type": "code",
   "execution_count": null,
   "id": "9f87195e",
   "metadata": {
    "scrolled": true
   },
   "outputs": [],
   "source": [
    "author_neighbour"
   ]
  },
  {
   "cell_type": "code",
   "execution_count": null,
   "id": "a1927bb9",
   "metadata": {},
   "outputs": [],
   "source": [
    "## venue center\n",
    "venue_neighbour = {} # key: venue name, value: paper list\n",
    "\n",
    "for p in tqdm(data):\n",
    "    if 'venue' in p:\n",
    "        if p['venue']['raw'] != '':\n",
    "            if p['venue']['raw'] not in venue_neighbour:\n",
    "                venue_neighbour[p['venue']['raw']] = []\n",
    "            venue_neighbour[p['venue']['raw']].append(p['title'])"
   ]
  },
  {
   "cell_type": "code",
   "execution_count": null,
   "id": "b4b865ab",
   "metadata": {
    "scrolled": true
   },
   "outputs": [],
   "source": [
    "venue_neighbour"
   ]
  },
  {
   "cell_type": "code",
   "execution_count": null,
   "id": "d51cda60",
   "metadata": {},
   "outputs": [],
   "source": []
  },
  {
   "cell_type": "markdown",
   "id": "55f2bdda",
   "metadata": {},
   "source": [
    "## save neighbour file"
   ]
  },
  {
   "cell_type": "code",
   "execution_count": null,
   "id": "fd6a9e6e",
   "metadata": {},
   "outputs": [],
   "source": [
    "pickle.dump(paper_dict, open('DBLP_neighbour/paper_dict.pkl','wb'))\n",
    "pickle.dump(author_dict, open('DBLP_neighbour/author_dict.pkl','wb'))\n",
    "pickle.dump(paper_neighbour, open('DBLP_neighbour/paper_neighbour.pkl','wb'))\n",
    "pickle.dump(author_neighbour, open('DBLP_neighbour/author_neighbour.pkl','wb'))\n",
    "pickle.dump(venue_neighbour, open('DBLP_neighbour/venue_neighbour.pkl','wb'))"
   ]
  },
  {
   "cell_type": "code",
   "execution_count": null,
   "id": "cd76e2ce",
   "metadata": {},
   "outputs": [],
   "source": []
  }
 ],
 "metadata": {
  "kernelspec": {
   "display_name": "Python 3 (ipykernel)",
   "language": "python",
   "name": "python3"
  },
  "language_info": {
   "codemirror_mode": {
    "name": "ipython",
    "version": 3
   },
   "file_extension": ".py",
   "mimetype": "text/x-python",
   "name": "python",
   "nbconvert_exporter": "python",
   "pygments_lexer": "ipython3",
   "version": "3.8.0"
  }
 },
 "nbformat": 4,
 "nbformat_minor": 5
}
