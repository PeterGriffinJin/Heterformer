{
 "cells": [
  {
   "cell_type": "code",
   "execution_count": null,
   "id": "970e3d60",
   "metadata": {},
   "outputs": [],
   "source": [
    "import os\n",
    "from tqdm import tqdm\n",
    "import pickle\n",
    "import random\n",
    "from collections import defaultdict"
   ]
  },
  {
   "cell_type": "markdown",
   "id": "ad08f240",
   "metadata": {},
   "source": [
    "## generate (text, nontext node) data from xxx_heter/train_pp.tsv"
   ]
  },
  {
   "cell_type": "code",
   "execution_count": null,
   "id": "24d625a2",
   "metadata": {},
   "outputs": [],
   "source": [
    "shelves_neighbour = pickle.load(open('neighbour/shelves_neighbour.pkl', 'rb'))"
   ]
  },
  {
   "cell_type": "code",
   "execution_count": null,
   "id": "22d45769",
   "metadata": {},
   "outputs": [],
   "source": [
    "author_neighbour = pickle.load(open('neighbour/author_neighbour.pkl', 'rb'))"
   ]
  },
  {
   "cell_type": "code",
   "execution_count": null,
   "id": "683aac32",
   "metadata": {},
   "outputs": [],
   "source": [
    "publisher_neighbour = pickle.load(open('neighbour/publisher_neighbour.pkl', 'rb'))"
   ]
  },
  {
   "cell_type": "code",
   "execution_count": null,
   "id": "1085bddf",
   "metadata": {},
   "outputs": [],
   "source": [
    "language_code_neighbour = pickle.load(open('neighbour/language_code_neighbour.pkl', 'rb'))"
   ]
  },
  {
   "cell_type": "code",
   "execution_count": null,
   "id": "b9292017",
   "metadata": {},
   "outputs": [],
   "source": [
    "format_neighbour = pickle.load(open('neighbour/format_neighbour.pkl', 'rb'))"
   ]
  },
  {
   "cell_type": "code",
   "execution_count": null,
   "id": "4a2c6a9d",
   "metadata": {},
   "outputs": [],
   "source": []
  },
  {
   "cell_type": "code",
   "execution_count": null,
   "id": "b31690a8",
   "metadata": {},
   "outputs": [],
   "source": [
    "shelves_id2idx_dict = pickle.load(open('neighbour/shelves_id2idx_dict.pkl', 'rb'))"
   ]
  },
  {
   "cell_type": "code",
   "execution_count": null,
   "id": "a30ee714",
   "metadata": {},
   "outputs": [],
   "source": [
    "author_id2idx_dict = pickle.load(open('neighbour/author_id2idx_dict.pkl', 'rb'))"
   ]
  },
  {
   "cell_type": "code",
   "execution_count": null,
   "id": "ea212d0c",
   "metadata": {},
   "outputs": [],
   "source": [
    "publisher_id2idx_dict = pickle.load(open('neighbour/publisher_id2idx_dict.pkl', 'rb'))"
   ]
  },
  {
   "cell_type": "code",
   "execution_count": null,
   "id": "0984bc3a",
   "metadata": {},
   "outputs": [],
   "source": [
    "language_code_id2idx_dict = pickle.load(open('neighbour/language_code_id2idx_dict.pkl', 'rb'))"
   ]
  },
  {
   "cell_type": "code",
   "execution_count": null,
   "id": "b7fc96b7",
   "metadata": {},
   "outputs": [],
   "source": [
    "format_id2idx_dict = pickle.load(open('neighbour/format_id2idx_dict.pkl', 'rb'))"
   ]
  },
  {
   "cell_type": "code",
   "execution_count": null,
   "id": "ccfa5f5a",
   "metadata": {
    "scrolled": true
   },
   "outputs": [],
   "source": [
    "len(shelves_neighbour)"
   ]
  },
  {
   "cell_type": "code",
   "execution_count": null,
   "id": "32e3c47b",
   "metadata": {},
   "outputs": [],
   "source": []
  },
  {
   "cell_type": "markdown",
   "id": "d943b471",
   "metadata": {},
   "source": [
    "## generate file for shelves embedding pretrain"
   ]
  },
  {
   "cell_type": "code",
   "execution_count": null,
   "id": "78e79320",
   "metadata": {
    "scrolled": true
   },
   "outputs": [],
   "source": [
    "shelves_book = {} # key: shelves_idx, value: book list\n",
    "for k in tqdm(shelves_id2idx_dict):\n",
    "    tmp_idx = shelves_id2idx_dict[k]\n",
    "    shelves_book[tmp_idx] = shelves_neighbour[k]"
   ]
  },
  {
   "cell_type": "code",
   "execution_count": null,
   "id": "6f1a2075",
   "metadata": {},
   "outputs": [],
   "source": [
    "shelves_book"
   ]
  },
  {
   "cell_type": "code",
   "execution_count": null,
   "id": "3280d565",
   "metadata": {},
   "outputs": [],
   "source": [
    "len(shelves_book)"
   ]
  },
  {
   "cell_type": "code",
   "execution_count": null,
   "id": "c2e282d2",
   "metadata": {},
   "outputs": [],
   "source": [
    "# write into file\n",
    "with open('pretrain/data/book/train_s.tsv','w') as fout:\n",
    "    for i in tqdm(shelves_book):\n",
    "        for text in shelves_book[i]:\n",
    "            if len(text.split('\\t')) == 1 and len(text.split('\\n')) == 1 and len(text.split('\\rm')) == 1 and len(text.split('\\r')) == 1 and len(text.split('$')) == 1:\n",
    "                fout.write(text+'\\t'+str(i)+'\\n')"
   ]
  },
  {
   "cell_type": "code",
   "execution_count": null,
   "id": "e20cc047",
   "metadata": {},
   "outputs": [],
   "source": [
    "# generate val set\n",
    "with open('pretrain/data/book/train_s.tsv') as f:\n",
    "    data = f.readlines()\n",
    "    random.shuffle(data)\n",
    "    with open('pretrain/data/book/val_s.tsv','w') as fout:\n",
    "        for d in tqdm(data[:1000]):\n",
    "            fout.write(d)"
   ]
  },
  {
   "cell_type": "code",
   "execution_count": null,
   "id": "08979b77",
   "metadata": {},
   "outputs": [],
   "source": []
  },
  {
   "cell_type": "markdown",
   "id": "93eabba5",
   "metadata": {},
   "source": [
    "## generate file for author embedding pretrain"
   ]
  },
  {
   "cell_type": "code",
   "execution_count": null,
   "id": "2763de0c",
   "metadata": {},
   "outputs": [],
   "source": [
    "author_book = {} # key: author_idx, value: book list\n",
    "for k in tqdm(author_id2idx_dict):\n",
    "    tmp_idx = author_id2idx_dict[k]\n",
    "    author_book[tmp_idx] = author_neighbour[k]"
   ]
  },
  {
   "cell_type": "code",
   "execution_count": null,
   "id": "c1aa5967",
   "metadata": {},
   "outputs": [],
   "source": [
    "author_book"
   ]
  },
  {
   "cell_type": "code",
   "execution_count": null,
   "id": "dbdcf2df",
   "metadata": {
    "scrolled": true
   },
   "outputs": [],
   "source": [
    "len(author_book)"
   ]
  },
  {
   "cell_type": "code",
   "execution_count": null,
   "id": "553f4491",
   "metadata": {},
   "outputs": [],
   "source": [
    "# write into file\n",
    "with open('pretrain/data/book/train_a.tsv','w') as fout:\n",
    "    for i in tqdm(author_book):\n",
    "        for text in author_book[i]:\n",
    "            if len(text.split('\\t')) == 1 and len(text.split('\\n')) == 1 and len(text.split('\\rm')) == 1 and len(text.split('\\r')) == 1 and len(text.split('$')) == 1:\n",
    "                fout.write(text+'\\t'+str(i)+'\\n')"
   ]
  },
  {
   "cell_type": "code",
   "execution_count": null,
   "id": "75dc1b78",
   "metadata": {},
   "outputs": [],
   "source": [
    "# generate val set\n",
    "with open('pretrain/data/book/train_a.tsv') as f:\n",
    "    data = f.readlines()\n",
    "    random.shuffle(data)\n",
    "    with open('pretrain/data/book/val_a.tsv','w') as fout:\n",
    "        for d in tqdm(data[:1000]):\n",
    "            fout.write(d)"
   ]
  },
  {
   "cell_type": "code",
   "execution_count": null,
   "id": "2b3b77de",
   "metadata": {},
   "outputs": [],
   "source": []
  },
  {
   "cell_type": "code",
   "execution_count": null,
   "id": "50da59ea",
   "metadata": {},
   "outputs": [],
   "source": []
  },
  {
   "cell_type": "markdown",
   "id": "c4f8251f",
   "metadata": {},
   "source": [
    "## generate file for publisher embedding pretrain"
   ]
  },
  {
   "cell_type": "code",
   "execution_count": null,
   "id": "60de781f",
   "metadata": {
    "scrolled": true
   },
   "outputs": [],
   "source": [
    "publisher_book = {} # key: publisher_idx, value: book list\n",
    "for k in tqdm(publisher_id2idx_dict):\n",
    "    tmp_idx = publisher_id2idx_dict[k]\n",
    "    publisher_book[tmp_idx] = publisher_neighbour[k]"
   ]
  },
  {
   "cell_type": "code",
   "execution_count": null,
   "id": "8bbf5c4f",
   "metadata": {
    "scrolled": true
   },
   "outputs": [],
   "source": [
    "publisher_book"
   ]
  },
  {
   "cell_type": "code",
   "execution_count": null,
   "id": "a1dade8e",
   "metadata": {},
   "outputs": [],
   "source": [
    "len(publisher_book)"
   ]
  },
  {
   "cell_type": "code",
   "execution_count": null,
   "id": "cc4913af",
   "metadata": {},
   "outputs": [],
   "source": [
    "# write into file\n",
    "with open('pretrain/data/book/train_p.tsv','w') as fout:\n",
    "    for i in tqdm(publisher_book):\n",
    "        for text in publisher_book[i]:\n",
    "            if len(text.split('\\t')) == 1 and len(text.split('\\n')) == 1 and len(text.split('\\rm')) == 1 and len(text.split('\\r')) == 1 and len(text.split('$')) == 1:\n",
    "                fout.write(text+'\\t'+str(i)+'\\n')"
   ]
  },
  {
   "cell_type": "code",
   "execution_count": null,
   "id": "53de2a0c",
   "metadata": {},
   "outputs": [],
   "source": [
    "# generate val set\n",
    "with open('pretrain/data/book/train_p.tsv') as f:\n",
    "    data = f.readlines()\n",
    "    random.shuffle(data)\n",
    "    with open('pretrain/data/book/val_p.tsv','w') as fout:\n",
    "        for d in tqdm(data[:1000]):\n",
    "            fout.write(d)"
   ]
  },
  {
   "cell_type": "code",
   "execution_count": null,
   "id": "57ac070b",
   "metadata": {},
   "outputs": [],
   "source": []
  },
  {
   "cell_type": "markdown",
   "id": "59e5f094",
   "metadata": {},
   "source": [
    "## generate file for language_code embedding pretrain"
   ]
  },
  {
   "cell_type": "code",
   "execution_count": null,
   "id": "8689adcc",
   "metadata": {},
   "outputs": [],
   "source": [
    "language_code_book = {} # key: tag_idx, value: tweet list\n",
    "for k in tqdm(language_code_id2idx_dict):\n",
    "    tmp_idx = language_code_id2idx_dict[k]\n",
    "    language_code_book[tmp_idx] = language_code_neighbour[k]"
   ]
  },
  {
   "cell_type": "code",
   "execution_count": null,
   "id": "8963726d",
   "metadata": {},
   "outputs": [],
   "source": [
    "language_code_book"
   ]
  },
  {
   "cell_type": "code",
   "execution_count": null,
   "id": "60f56f7b",
   "metadata": {},
   "outputs": [],
   "source": [
    "len(language_code_book)"
   ]
  },
  {
   "cell_type": "code",
   "execution_count": null,
   "id": "f1fb90a4",
   "metadata": {},
   "outputs": [],
   "source": [
    "# write into file\n",
    "with open('pretrain/data/book/train_l.tsv','w') as fout:\n",
    "    for i in tqdm(language_code_book):\n",
    "        for text in language_code_book[i]:\n",
    "            if len(text.split('\\t')) == 1 and len(text.split('\\n')) == 1 and len(text.split('\\rm')) == 1 and len(text.split('\\r')) == 1 and len(text.split('$')) == 1:\n",
    "                fout.write(text+'\\t'+str(i)+'\\n')"
   ]
  },
  {
   "cell_type": "code",
   "execution_count": null,
   "id": "9ed1707f",
   "metadata": {},
   "outputs": [],
   "source": [
    "# generate val set\n",
    "with open('pretrain/data/book/train_l.tsv') as f:\n",
    "    data = f.readlines()\n",
    "    random.shuffle(data)\n",
    "    with open('pretrain/data/book/val_l.tsv','w') as fout:\n",
    "        for d in tqdm(data[:1000]):\n",
    "            fout.write(d)"
   ]
  },
  {
   "cell_type": "code",
   "execution_count": null,
   "id": "9aa6e861",
   "metadata": {},
   "outputs": [],
   "source": []
  },
  {
   "cell_type": "markdown",
   "id": "1f8f8034",
   "metadata": {},
   "source": [
    "## generate file for format embedding pretrain"
   ]
  },
  {
   "cell_type": "code",
   "execution_count": null,
   "id": "ca4a4571",
   "metadata": {},
   "outputs": [],
   "source": [
    "format_book = {} # key: format_idx, value: book list\n",
    "for k in tqdm(format_id2idx_dict):\n",
    "    tmp_idx = format_id2idx_dict[k]\n",
    "    format_book[tmp_idx] = format_neighbour[k]"
   ]
  },
  {
   "cell_type": "code",
   "execution_count": null,
   "id": "488eddb2",
   "metadata": {},
   "outputs": [],
   "source": [
    "format_book"
   ]
  },
  {
   "cell_type": "code",
   "execution_count": null,
   "id": "8485f113",
   "metadata": {},
   "outputs": [],
   "source": [
    "len(format_book)"
   ]
  },
  {
   "cell_type": "code",
   "execution_count": null,
   "id": "cda4ba1c",
   "metadata": {},
   "outputs": [],
   "source": [
    "# write into file\n",
    "with open('pretrain/data/book/train_f.tsv','w') as fout:\n",
    "    for i in tqdm(format_book):\n",
    "        for text in format_book[i]:\n",
    "            if len(text.split('\\t')) == 1 and len(text.split('\\n')) == 1 and len(text.split('\\rm')) == 1 and len(text.split('\\r')) == 1 and len(text.split('$')) == 1:\n",
    "                fout.write(text+'\\t'+str(i)+'\\n')"
   ]
  },
  {
   "cell_type": "code",
   "execution_count": null,
   "id": "0b3511a8",
   "metadata": {},
   "outputs": [],
   "source": [
    "# generate val set\n",
    "with open('pretrain/data/book/train_f.tsv') as f:\n",
    "    data = f.readlines()\n",
    "    random.shuffle(data)\n",
    "    with open('pretrain/data/book/val_f.tsv','w') as fout:\n",
    "        for d in tqdm(data[:1000]):\n",
    "            fout.write(d)"
   ]
  },
  {
   "cell_type": "code",
   "execution_count": null,
   "id": "2832d288",
   "metadata": {},
   "outputs": [],
   "source": []
  }
 ],
 "metadata": {
  "kernelspec": {
   "display_name": "Python 3 (ipykernel)",
   "language": "python",
   "name": "python3"
  },
  "language_info": {
   "codemirror_mode": {
    "name": "ipython",
    "version": 3
   },
   "file_extension": ".py",
   "mimetype": "text/x-python",
   "name": "python",
   "nbconvert_exporter": "python",
   "pygments_lexer": "ipython3",
   "version": "3.8.0"
  }
 },
 "nbformat": 4,
 "nbformat_minor": 5
}
