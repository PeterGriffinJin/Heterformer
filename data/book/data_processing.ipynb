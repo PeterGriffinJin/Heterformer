{
 "cells": [
  {
   "cell_type": "code",
   "execution_count": null,
   "id": "9dab7b28",
   "metadata": {},
   "outputs": [],
   "source": [
    "import os\n",
    "import json\n",
    "import random\n",
    "import pickle\n",
    "from tqdm import tqdm\n",
    "from collections import defaultdict"
   ]
  },
  {
   "cell_type": "markdown",
   "id": "f15e23a5",
   "metadata": {},
   "source": [
    "## Stage 1 preprocessing"
   ]
  },
  {
   "cell_type": "code",
   "execution_count": null,
   "id": "03e00f51",
   "metadata": {},
   "outputs": [],
   "source": [
    "target_keys = ['similar_books', 'description','authors','publisher','book_id','title_without_series','title', 'format', 'popular_shelves', 'edition_information','series','language_code','country_code','edition_information']"
   ]
  },
  {
   "cell_type": "code",
   "execution_count": null,
   "id": "f6bd5fa1",
   "metadata": {
    "scrolled": false
   },
   "outputs": [],
   "source": [
    "# read book data\n",
    "data = []\n",
    "\n",
    "with open('goodreads_books.json') as f:\n",
    "    readin = f.readlines()\n",
    "    for line in tqdm(readin):\n",
    "        tmp = json.loads(line)\n",
    "        tmp_clean = {}\n",
    "        for k in target_keys:\n",
    "            tmp_clean[k] = tmp[k]\n",
    "        data.append(tmp_clean)"
   ]
  },
  {
   "cell_type": "code",
   "execution_count": null,
   "id": "6e2a716a",
   "metadata": {},
   "outputs": [],
   "source": [
    "len(data)"
   ]
  },
  {
   "cell_type": "code",
   "execution_count": null,
   "id": "47389117",
   "metadata": {
    "scrolled": false
   },
   "outputs": [],
   "source": [
    "filter_data = []\n",
    "\n",
    "for d in tqdm(data):\n",
    "    if len(d['similar_books']) != 0:\n",
    "        filter_data.append(d)"
   ]
  },
  {
   "cell_type": "code",
   "execution_count": null,
   "id": "ca3498a7",
   "metadata": {
    "scrolled": false
   },
   "outputs": [],
   "source": [
    "len(filter_data)"
   ]
  },
  {
   "cell_type": "code",
   "execution_count": null,
   "id": "f00b369d",
   "metadata": {},
   "outputs": [],
   "source": [
    "## judge if one book has no similar books, will it appear in other books' similar book?\n",
    "## if cnt != 0, answer is yes\n",
    "\n",
    "appear_in_similar_book_set = set()\n",
    "for b in tqdm(filter_data):\n",
    "    for bid in b['similar_books']:\n",
    "        appear_in_similar_book_set.add(bid)\n",
    "\n",
    "cnt = 0\n",
    "for b in tqdm(data):\n",
    "    if len(b['similar_books']) == 0 and b['book_id'] in appear_in_similar_book_set:\n",
    "        cnt += 1\n",
    "\n",
    "print(cnt)"
   ]
  },
  {
   "cell_type": "code",
   "execution_count": null,
   "id": "b085f990",
   "metadata": {},
   "outputs": [],
   "source": [
    "# delete those books which lie in similar_books but do not lie in filter_data\n",
    "\n",
    "books = set([b['book_id'] for b in tqdm(filter_data)])\n",
    "\n",
    "cnt = 0\n",
    "for i in tqdm(range(len(filter_data))):\n",
    "    reconstruct_similar = []\n",
    "    for bid in filter_data[i]['similar_books']:\n",
    "        if bid in books:\n",
    "            reconstruct_similar.append(bid)\n",
    "    if len(reconstruct_similar) != len(filter_data[i]['similar_books']):\n",
    "        filter_data[i]['similar_books'] = reconstruct_similar\n",
    "        cnt += 1\n",
    "\n",
    "print(cnt)"
   ]
  },
  {
   "cell_type": "code",
   "execution_count": null,
   "id": "6db30140",
   "metadata": {
    "scrolled": true
   },
   "outputs": [],
   "source": [
    "# read book genres\n",
    "book_genres_dict = {}\n",
    "\n",
    "with open('goodreads_book_genres_initial.json') as f:\n",
    "    readin = f.readlines()\n",
    "    for line in tqdm(readin):\n",
    "        tmp = json.loads(line)\n",
    "        assert tmp['book_id'] not in book_genres_dict\n",
    "        book_genres_dict[tmp['book_id']] = [k for k in tmp['genres']]\n",
    "\n",
    "print(len(book_genres_dict))"
   ]
  },
  {
   "cell_type": "code",
   "execution_count": null,
   "id": "aca9e642",
   "metadata": {
    "scrolled": true
   },
   "outputs": [],
   "source": [
    "# add genres into filter_data\n",
    "\n",
    "for i in tqdm(range(len(filter_data))):\n",
    "    assert filter_data[i]['book_id'] in book_genres_dict\n",
    "    filter_data[i]['genres'] = book_genres_dict[filter_data[i]['book_id']]"
   ]
  },
  {
   "cell_type": "code",
   "execution_count": null,
   "id": "2101c583",
   "metadata": {},
   "outputs": [],
   "source": [
    "# save the first stage processed data\n",
    "pickle.dump(filter_data, open('books_filtered.pkl','wb'))"
   ]
  },
  {
   "cell_type": "code",
   "execution_count": null,
   "id": "51c8189f",
   "metadata": {},
   "outputs": [],
   "source": []
  },
  {
   "cell_type": "markdown",
   "id": "052fd8f4",
   "metadata": {},
   "source": [
    "## Stage 2 preprocessing"
   ]
  },
  {
   "cell_type": "code",
   "execution_count": null,
   "id": "332124c2",
   "metadata": {},
   "outputs": [],
   "source": [
    "# load the first stage processed data\n",
    "data = pickle.load(open('books_filtered.pkl','rb'))"
   ]
  },
  {
   "cell_type": "code",
   "execution_count": null,
   "id": "13fe3174",
   "metadata": {},
   "outputs": [],
   "source": [
    "len(data)"
   ]
  },
  {
   "cell_type": "code",
   "execution_count": null,
   "id": "0111937d",
   "metadata": {},
   "outputs": [],
   "source": [
    "# construct book_dict: key book_id, value book_info_dict\n",
    "\n",
    "book_dict = {}\n",
    "\n",
    "for b in tqdm(data):\n",
    "    assert b['book_id'] not in book_dict\n",
    "    book_dict[b['book_id']] = b"
   ]
  },
  {
   "cell_type": "code",
   "execution_count": null,
   "id": "52d7159a",
   "metadata": {
    "scrolled": false
   },
   "outputs": [],
   "source": [
    "# some statistics\n",
    "author_degree_dict = defaultdict(int)\n",
    "publisher_degree_dict = defaultdict(int)\n",
    "genres_degree_dict = defaultdict(int)\n",
    "shelves_degree_dict = defaultdict(int)\n",
    "country_code_degree_dict = defaultdict(int)\n",
    "language_code_degree_dict = defaultdict(int)\n",
    "format_degree_dict = defaultdict(int)\n",
    "edition_information_degree_dict = defaultdict(int)\n",
    "\n",
    "no_author_cnt = 0\n",
    "no_publisher_cnt = 0\n",
    "no_genres_cnt = 0\n",
    "no_title_cnt = 0\n",
    "no_description_cnt = 0\n",
    "avg_rough_title_len = 0\n",
    "avg_rough_description_len = 0\n",
    "avg_author_per_book = 0\n",
    "avg_similar_per_book = 0\n",
    "max_author_per_book = 0\n",
    "\n",
    "for bid in tqdm(book_dict):\n",
    "    if len(book_dict[bid]['authors']) == 0:\n",
    "        no_author_cnt += 1\n",
    "    else:\n",
    "        avg_author_per_book += len(book_dict[bid]['authors'])\n",
    "        if len(book_dict[bid]['authors']) > max_author_per_book:\n",
    "            max_author_per_book = len(book_dict[bid]['authors'])\n",
    "    for author_dict in book_dict[bid]['authors']:\n",
    "        author_degree_dict[author_dict['author_id']] += 1\n",
    "    \n",
    "    if book_dict[bid]['publisher'] == '':\n",
    "        no_publisher_cnt += 1\n",
    "    else:\n",
    "        publisher_degree_dict[book_dict[bid]['publisher']] += 1\n",
    "    \n",
    "    if 'genres' not in book_dict[bid] or len(book_dict[bid]['genres'])==0:\n",
    "        no_genres_cnt += 1\n",
    "    else:\n",
    "        for g in book_dict[bid]['genres']:\n",
    "            genres_degree_dict[g] += 1\n",
    "\n",
    "    if 'title' not in book_dict[bid] or book_dict[bid]['title'] == '':\n",
    "        no_title_cnt += 1\n",
    "    else:\n",
    "        avg_rough_title_len += len(book_dict[bid]['title'].split(' '))\n",
    "    \n",
    "    if 'description' not in book_dict[bid] or book_dict[bid]['description'] == '':\n",
    "        no_description_cnt += 1\n",
    "    else:\n",
    "        avg_rough_description_len += len(book_dict[bid]['description'].split(' '))\n",
    "\n",
    "    avg_similar_per_book += len(book_dict[bid]['similar_books'])\n",
    "    \n",
    "    # popular shelves\n",
    "    for ss in book_dict[bid]['popular_shelves']:\n",
    "        shelves_degree_dict[ss['name']] += 1\n",
    "        \n",
    "    # country code\n",
    "    country_code_degree_dict[book_dict[bid]['country_code']] += 1\n",
    "    \n",
    "    # language code\n",
    "    language_code_degree_dict[book_dict[bid]['language_code']] += 1\n",
    "\n",
    "    # format\n",
    "    format_degree_dict[book_dict[bid]['format']] += 1\n",
    "\n",
    "    # edition information\n",
    "    edition_information_degree_dict[book_dict[bid]['edition_information']] += 1\n",
    "\n",
    "    \n",
    "avg_rough_title_len = avg_rough_title_len / len(book_dict)\n",
    "avg_rough_description_len = avg_rough_description_len / len(book_dict)\n",
    "avg_author_per_book = avg_author_per_book / len(book_dict)\n",
    "avg_similar_per_book = avg_similar_per_book / len(book_dict)\n",
    "\n",
    "print(f'No author books:{no_author_cnt}, No publisher books:{no_publisher_cnt}, No genre books:{no_genres_cnt}, No title books:{no_title_cnt}, No description books:{no_description_cnt}')\n",
    "print(f'Books num:{len(book_dict)}, Author num:{len(author_degree_dict)}, Publisher num:{len(publisher_degree_dict)}, Genres num:{len(genres_degree_dict)}')\n",
    "print(f'Average title len:{avg_rough_title_len}, Average description len:{avg_rough_description_len}, Average author per book:{avg_author_per_book}')\n",
    "print(f'Average similar books:{avg_similar_per_book}, Max author per book:{max_author_per_book}')\n",
    "print(f'Num of shelves:{len(shelves_degree_dict)}, Num of country_code:{len(country_code_degree_dict)}, Num of language_code:{len(language_code_degree_dict)}')\n",
    "print(f'Num of format:{len(format_degree_dict)}, Num of edition information:{len(edition_information_degree_dict)}')"
   ]
  },
  {
   "cell_type": "code",
   "execution_count": null,
   "id": "08a9bc93",
   "metadata": {
    "scrolled": true
   },
   "outputs": [],
   "source": [
    "genres_degree_dict"
   ]
  },
  {
   "cell_type": "code",
   "execution_count": null,
   "id": "87f17d6e",
   "metadata": {
    "scrolled": true
   },
   "outputs": [],
   "source": [
    "# filter shelves_degree_dict\n",
    "\n",
    "thresholdH = 100000\n",
    "thresholdL = 1000\n",
    "\n",
    "shelves_degree_dict_filtered = {}\n",
    "for s in tqdm(shelves_degree_dict):\n",
    "    if shelves_degree_dict[s] <= thresholdH and shelves_degree_dict[s] >= thresholdL and s[:4] != 'read' and s[-5:] != 'reads' and len(s) >=3:\n",
    "        shelves_degree_dict_filtered[s] = shelves_degree_dict[s]\n",
    "        \n",
    "print(len(shelves_degree_dict_filtered))"
   ]
  },
  {
   "cell_type": "code",
   "execution_count": null,
   "id": "f0ac2de8",
   "metadata": {},
   "outputs": [],
   "source": []
  },
  {
   "cell_type": "code",
   "execution_count": null,
   "id": "d534e8fc",
   "metadata": {},
   "outputs": [],
   "source": [
    "# some statistics on whether one meta-data is significantly useful for similar paper prediction\n",
    "## analysis: \n",
    "## edition information(x): 90w+/100w books don't have edition information.\n",
    "## country_code(x): only have USA\n",
    "## language_code(v)\n",
    "## format(v)\n",
    "\n",
    "cnt = 0\n",
    "\n",
    "country_code_cnt = 0\n",
    "language_code_cnt = 0\n",
    "format_cnt = 0\n",
    "edition_information_cnt = 0\n",
    "\n",
    "language_code_cnt_total = 0\n",
    "format_cnt_total = 0\n",
    "edition_information_cnt_total = 0\n",
    "\n",
    "for bid in tqdm(book_dict):\n",
    "    for sbid in book_dict[bid]['similar_books']:\n",
    "        cnt += 1\n",
    "        \n",
    "        if book_dict[bid]['country_code'] == book_dict[sbid]['country_code']:\n",
    "            country_code_cnt += 1\n",
    "            \n",
    "        if book_dict[bid]['language_code'] != '' and book_dict[bid]['language_code'] == book_dict[sbid]['language_code']:\n",
    "            language_code_cnt += 1\n",
    "        if book_dict[bid]['language_code'] != '' and book_dict[sbid]['language_code'] != '':\n",
    "            language_code_cnt_total += 1\n",
    "            \n",
    "        if book_dict[bid]['format'] != '' and book_dict[bid]['format'] == book_dict[sbid]['format']:\n",
    "            format_cnt += 1\n",
    "        if book_dict[bid]['format'] != '' and book_dict[sbid]['format'] != '':\n",
    "            format_cnt_total += 1\n",
    "            \n",
    "        if book_dict[bid]['edition_information'] != '' and book_dict[bid]['edition_information'] == book_dict[sbid]['edition_information']:\n",
    "            edition_information_cnt += 1\n",
    "        if book_dict[bid]['edition_information'] != '' and book_dict[sbid]['edition_information'] != '':\n",
    "            edition_information_cnt_total += 1\n",
    "            \n",
    "print(f'Same country code:{country_code_cnt/cnt}, same language code:{language_code_cnt/language_code_cnt_total}, same format:{format_cnt/format_cnt_total}, same edition information:{edition_information_cnt/edition_information_cnt_total}.')"
   ]
  },
  {
   "cell_type": "markdown",
   "id": "7ea4f06e",
   "metadata": {},
   "source": [
    "## Finally, we select shelves, author, publisher, language_code, format"
   ]
  },
  {
   "cell_type": "markdown",
   "id": "15500348",
   "metadata": {},
   "source": [
    "## Seperate train/val/test"
   ]
  },
  {
   "cell_type": "code",
   "execution_count": null,
   "id": "82612657",
   "metadata": {},
   "outputs": [],
   "source": [
    "all_bids = list(book_dict.keys())\n",
    "random.shuffle(all_bids)"
   ]
  },
  {
   "cell_type": "code",
   "execution_count": null,
   "id": "cdc21802",
   "metadata": {},
   "outputs": [],
   "source": [
    "# seperate data\n",
    "train_ratio = 0.7\n",
    "val_ratio = 0.1\n",
    "\n",
    "train_set = all_bids[:int(len(all_bids)* train_ratio)]\n",
    "val_set = all_bids[int(len(all_bids)* train_ratio):int(len(all_bids)* (train_ratio+val_ratio))]\n",
    "test_set = all_bids[int(len(all_bids)* (train_ratio+val_ratio)):]"
   ]
  },
  {
   "cell_type": "code",
   "execution_count": null,
   "id": "57931078",
   "metadata": {},
   "outputs": [],
   "source": [
    "# save file\n",
    "with open('raw/train.tsv','w') as fout:\n",
    "    for k in tqdm(train_set):\n",
    "        fout.write(json.dumps(book_dict[k])+'\\n')\n",
    "\n",
    "with open('raw/val.tsv','w') as fout:\n",
    "    for k in tqdm(val_set):\n",
    "        fout.write(json.dumps(book_dict[k])+'\\n')\n",
    "\n",
    "with open('raw/test.tsv','w') as fout:\n",
    "    for k in tqdm(test_set):\n",
    "        fout.write(json.dumps(book_dict[k])+'\\n')"
   ]
  },
  {
   "cell_type": "code",
   "execution_count": null,
   "id": "ead6a5a0",
   "metadata": {},
   "outputs": [],
   "source": [
    "# save\n",
    "pickle.dump(shelves_degree_dict_filtered, open('raw/shelves_degree_dict_1000_100000.pkl','wb'))"
   ]
  },
  {
   "cell_type": "code",
   "execution_count": null,
   "id": "21ddf7b6",
   "metadata": {},
   "outputs": [],
   "source": []
  },
  {
   "cell_type": "code",
   "execution_count": null,
   "id": "901550bc",
   "metadata": {},
   "outputs": [],
   "source": []
  },
  {
   "cell_type": "code",
   "execution_count": null,
   "id": "b0a81794",
   "metadata": {},
   "outputs": [],
   "source": []
  },
  {
   "cell_type": "code",
   "execution_count": null,
   "id": "e9b3aaad",
   "metadata": {},
   "outputs": [],
   "source": []
  },
  {
   "cell_type": "code",
   "execution_count": null,
   "id": "70b9f9cc",
   "metadata": {},
   "outputs": [],
   "source": []
  }
 ],
 "metadata": {
  "kernelspec": {
   "display_name": "Python 3 (ipykernel)",
   "language": "python",
   "name": "python3"
  },
  "language_info": {
   "codemirror_mode": {
    "name": "ipython",
    "version": 3
   },
   "file_extension": ".py",
   "mimetype": "text/x-python",
   "name": "python",
   "nbconvert_exporter": "python",
   "pygments_lexer": "ipython3",
   "version": "3.8.0"
  }
 },
 "nbformat": 4,
 "nbformat_minor": 5
}
